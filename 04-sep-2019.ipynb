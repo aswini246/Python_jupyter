{
 "cells": [
  {
   "cell_type": "markdown",
   "metadata": {},
   "source": [
    "### Markdown Basics\n",
    "# Heading 1\n",
    "## Heading 2\n",
    "**Bold**\n",
    "*Italic*\n",
    "***Italic***\n",
    "* Text\n",
    "    * sublist 1\n",
    "    * sublist 2\n",
    "> 1.Ordered list1\n",
    "> 2.Ordered list2\n",
    "\n",
    "- [ ] Option 1\n",
    "- [ ] Option 2\n",
    "- [x] option 3\n",
    "\n",
    "\n",
    "\\* escape\n",
    "[link](https://youtube.com)\n",
    "\n",
    "I have 10 items [Google] [1] than from [Yahoo] [2].\n",
    "\n",
    "[1]: https://google.com/ \"Google\"\n",
    "[2]: https://search.yahoo.com/ \"Yahoo search\""
   ]
  },
  {
   "cell_type": "markdown",
   "metadata": {},
   "source": [
    "`print('ewrt')`"
   ]
  },
  {
   "cell_type": "markdown",
   "metadata": {},
   "source": [
    "<https://google.com>"
   ]
  },
  {
   "cell_type": "markdown",
   "metadata": {},
   "source": [
    "[jupyter logo](logo.png)\n",
    "<img src=\"logo.png\">"
   ]
  },
  {
   "cell_type": "code",
   "execution_count": null,
   "metadata": {},
   "outputs": [],
   "source": []
  }
 ],
 "metadata": {
  "kernelspec": {
   "display_name": "Python 3",
   "language": "python",
   "name": "python3"
  },
  "language_info": {
   "codemirror_mode": {
    "name": "ipython",
    "version": 3
   },
   "file_extension": ".py",
   "mimetype": "text/x-python",
   "name": "python",
   "nbconvert_exporter": "python",
   "pygments_lexer": "ipython3",
   "version": "3.7.3"
  }
 },
 "nbformat": 4,
 "nbformat_minor": 2
}

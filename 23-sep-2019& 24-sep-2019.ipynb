{
 "cells": [
  {
   "cell_type": "markdown",
   "metadata": {},
   "source": [
    "### File Encryption and Decryption\n",
    "#### Data Encryption\n",
    "\n",
    "Encryption is a security method in which information is encoded in such a way that only authorized user can read it.It uses encryption algorithm to generate ciphertext that can only be read if decrypted.\n",
    "Data Decryption\n",
    "\n",
    "Decryption is the process of taking encoded or encrypted text and converting it back into text that you or the computer can read and understand.\n",
    "Types\n",
    "\n",
    "Symmetric(Private key): It uses a single key that will be shared among the people who need to receive the message\n",
    "\n",
    "Asymmetric(Public key): It uses a pair of public key and a private key to encrypt and decrypt messages.\n",
    "How to encrypt a message\n"
   ]
  },
  {
   "cell_type": "markdown",
   "metadata": {},
   "source": [
    "#### How to encrypt a message"
   ]
  },
  {
   "cell_type": "code",
   "execution_count": 1,
   "metadata": {},
   "outputs": [
    {
     "name": "stdout",
     "output_type": "stream",
     "text": [
      "Enter any message:Today is Sunday :)\n",
      "fujgefoyffatjgefff"
     ]
    }
   ],
   "source": [
    "msg=input(\"Enter any message:\")\n",
    "key_file='abcdefghijklmnopqrstuvwxyz'\n",
    "key=6\n",
    "for char in msg:\n",
    "    pos=key_file.find(char)\n",
    "    new_pos=(pos+key)%26\n",
    "    print(key_file[new_pos],end=\"\")"
   ]
  },
  {
   "cell_type": "code",
   "execution_count": 2,
   "metadata": {},
   "outputs": [
    {
     "name": "stdout",
     "output_type": "stream",
     "text": [
      "Enter any message:world\n",
      "duxrj\n"
     ]
    }
   ],
   "source": [
    "## Encrypted message using ASCII value\n",
    "msg=input(\"Enter any message:\")\n",
    "key=6\n",
    "enc=\"\"\n",
    "for i in msg:\n",
    "    pos=ord(i)+key\n",
    "    if pos>=97 and pos<=122:\n",
    "        enc+=chr(pos)\n",
    "    else:\n",
    "        h=97+(pos-122)\n",
    "        enc+=chr(h)\n",
    "print(enc)"
   ]
  },
  {
   "cell_type": "code",
   "execution_count": null,
   "metadata": {},
   "outputs": [],
   "source": [
    "key_file=\"key.txt\"\n",
    "def createkeyFile(key_file):\n",
    "    with open(key_file,\"w\") as f:\n",
    "        for i in range(10):\n",
    "            if i<6:\n",
    "                f.write(str(i)+\" \"+str(i+4)+\"\\n\")\n",
    "            else:\n",
    "                f.write(str(i)+\" \"+str(i-6)+\"\\n\")\n",
    "createkeyFile(key_file)"
   ]
  },
  {
   "cell_type": "code",
   "execution_count": null,
   "metadata": {},
   "outputs": [],
   "source": [
    "keyfile=\"key.txt\"\n",
    "def Dictionary_Form(keyfile):\n",
    "    dict1={}\n",
    "    with open(keyfile,\"r\")as k:\n",
    "        for line in k:\n",
    "            h=line.split()\n",
    "            dict1[h[0]]=h[1]\n",
    "    return dict1\n",
    "\n",
    "def encrypt_data(datafile,keyfile):\n",
    "    key=Dictionary_Form(keyfile)\n",
    "    with open(datafile,\"r\")as d:\n",
    "        h=d.read().split(\"\\n\")\n",
    "\n",
    "    with open('encrypted_marks.txt',\"w\")as e:\n",
    "        for marks in h:\n",
    "            encr=\"\"\n",
    "            for i in marks:\n",
    "                encr+=key[i]\n",
    "            e.write(encr+\"\\n\")\n",
    "    return    \n",
    "datafile=\"marks.txt\"\n",
    "encrypt_data(datafile,keyfile)"
   ]
  },
  {
   "cell_type": "code",
   "execution_count": null,
   "metadata": {},
   "outputs": [],
   "source": [
    "key_file=\"key.txt\"\n",
    "def Decrypt_marks(encrypted,keyfile):\n",
    "    key=Dictionary_Form(keyfile)\n",
    "    new_dict={}\n",
    "    for key,value in key.items():\n",
    "        new_dict[value]=key\n",
    "    with open(encrypted,\"r\") as enc:\n",
    "        y=enc.read().split(\"\\n\")\n",
    "        \n",
    "    with open(\"decrypted.txt\",\"w\") as d:\n",
    "        for t in y:\n",
    "            u=\"\"\n",
    "            for j in t:\n",
    "                u+=new_dict[j]\n",
    "            d.write(u+\"\\n\")\n",
    "    return\n",
    "encrypted='encrypted_marks.txt'\n",
    "Decrypt_marks(encrypted,keyfile)"
   ]
  },
  {
   "cell_type": "markdown",
   "metadata": {},
   "source": [
    "#### Tasks\n",
    "\n",
    "    Write a function to Takes marks using write and encrypt your marks file\n",
    "    2.Write a function to decrypt the encryted marks file"
   ]
  },
  {
   "cell_type": "code",
   "execution_count": 3,
   "metadata": {},
   "outputs": [
    {
     "name": "stdout",
     "output_type": "stream",
     "text": [
      "Enter any message:Sunday\n",
      "Ybtjgf\n"
     ]
    }
   ],
   "source": [
    "## Encrypted message using ASCII value\n",
    "msg=input(\"Enter any message:\")\n",
    "key=6\n",
    "enc=\"\"\n",
    "for i in msg:\n",
    "    pos=ord(i)\n",
    "    if pos>=65 and pos<91:\n",
    "        h=pos+key\n",
    "        if h>=65 and h<91:\n",
    "            enc+=chr(h)\n",
    "        else:\n",
    "            h=65+(h-91)\n",
    "            enc+=chr(h)\n",
    "    else:\n",
    "        h=pos+key\n",
    "        if h>=97 and h<122:\n",
    "            enc+=chr(h)\n",
    "        else:\n",
    "            h=97+(h-122)\n",
    "            enc+=chr(h)\n",
    "print(enc)"
   ]
  },
  {
   "cell_type": "code",
   "execution_count": null,
   "metadata": {},
   "outputs": [],
   "source": []
  }
 ],
 "metadata": {
  "kernelspec": {
   "display_name": "Python 3",
   "language": "python",
   "name": "python3"
  },
  "language_info": {
   "codemirror_mode": {
    "name": "ipython",
    "version": 3
   },
   "file_extension": ".py",
   "mimetype": "text/x-python",
   "name": "python",
   "nbconvert_exporter": "python",
   "pygments_lexer": "ipython3",
   "version": "3.7.3"
  }
 },
 "nbformat": 4,
 "nbformat_minor": 2
}

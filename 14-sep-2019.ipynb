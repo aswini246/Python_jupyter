{
 "cells": [
  {
   "cell_type": "code",
   "execution_count": 3,
   "metadata": {},
   "outputs": [
    {
     "name": "stdout",
     "output_type": "stream",
     "text": [
      "100 200 4 100 400\n",
      "800\n"
     ]
    }
   ],
   "source": [
    "# Print 3 digits numbers sum in given list\n",
    "#input :100 200 4 100 400    output: 800\n",
    "n=input().split()\n",
    "res=0\n",
    "for i in n:\n",
    "    if len(i)==3:\n",
    "        res=res + int(i)\n",
    "print(res)"
   ]
  },
  {
   "cell_type": "code",
   "execution_count": 4,
   "metadata": {},
   "outputs": [
    {
     "name": "stdout",
     "output_type": "stream",
     "text": [
      "657\n",
      "7\n",
      "5\n",
      "6\n"
     ]
    }
   ],
   "source": [
    "#print reverse order of given number\n",
    "n=int(input())\n",
    "r=str(n)\n",
    "for i in r[::-1]:\n",
    "    print(i)"
   ]
  },
  {
   "cell_type": "code",
   "execution_count": 5,
   "metadata": {},
   "outputs": [
    {
     "name": "stdout",
     "output_type": "stream",
     "text": [
      "Hello\n",
      "HelloHello\n"
     ]
    }
   ],
   "source": [
    "# String repetition\n",
    "s=input()\n",
    "print(2*s)"
   ]
  },
  {
   "cell_type": "code",
   "execution_count": 6,
   "metadata": {},
   "outputs": [
    {
     "name": "stdout",
     "output_type": "stream",
     "text": [
      "1\n",
      "0234369586798\n",
      "+91-(436)-958-6798\n"
     ]
    }
   ],
   "source": [
    "#formated phone number\n",
    "t=int(input())\n",
    "for i in range(t):\n",
    "    pn=input()\n",
    "    new=pn[-10:]\n",
    "    l=\"+91\"+'-('+new[:3]+')'+'-('+new[3:6]+')-'+'('+new[6:]\n",
    "    print(l)"
   ]
  },
  {
   "cell_type": "code",
   "execution_count": null,
   "metadata": {},
   "outputs": [],
   "source": []
  }
 ],
 "metadata": {
  "kernelspec": {
   "display_name": "Python 3",
   "language": "python",
   "name": "python3"
  },
  "language_info": {
   "codemirror_mode": {
    "name": "ipython",
    "version": 3
   },
   "file_extension": ".py",
   "mimetype": "text/x-python",
   "name": "python",
   "nbconvert_exporter": "python",
   "pygments_lexer": "ipython3",
   "version": "3.7.3"
  }
 },
 "nbformat": 4,
 "nbformat_minor": 2
}

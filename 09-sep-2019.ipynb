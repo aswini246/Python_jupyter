{
 "cells": [
  {
   "cell_type": "markdown",
   "metadata": {},
   "source": [
    "# conditional statements\n",
    "## If statements"
   ]
  },
  {
   "cell_type": "code",
   "execution_count": null,
   "metadata": {},
   "outputs": [],
   "source": [
    "marks=int(input(\"enter marks: *\"))\n",
    "passm=50\n",
    "dist=90\n",
    "if marks <passm:\n",
    "    print('Failed')\n",
    "if marks >=dist:\n",
    "    print('you got  top marks in this exam')\n",
    "if marks >=passm and marks<dist:\n",
    "    print('you got good marks,congrats!')"
   ]
  },
  {
   "cell_type": "code",
   "execution_count": null,
   "metadata": {},
   "outputs": [],
   "source": [
    "s=\"The cofee is not bad\"\n",
    "t=input('enter a sentence')\n",
    "if 'bad' in s:\n",
    "    print('True')\n",
    "        "
   ]
  },
  {
   "cell_type": "code",
   "execution_count": null,
   "metadata": {},
   "outputs": [],
   "source": [
    "'qwert' in 'qwertyu'"
   ]
  },
  {
   "cell_type": "code",
   "execution_count": null,
   "metadata": {},
   "outputs": [],
   "source": [
    "if None:\n",
    "    print('True')\n",
    "else:\n",
    "    print('false')"
   ]
  },
  {
   "cell_type": "code",
   "execution_count": null,
   "metadata": {},
   "outputs": [],
   "source": [
    "#IF num=even should be div by 4 print True or False\n",
    "n=int(input('enter a number'))\n",
    "if(n%2==0):\n",
    "    print(n,'is even')\n",
    "    if(n%4==0):\n",
    "        print(n,'is divisble by 4')\n",
    "    else:\n",
    "        print(n,\"isn't divisible by 4\")\n",
    "else:\n",
    "    if(n%2!=0):\n",
    "        print(n,'is odd')   \n",
    "    if(n%3==0):\n",
    "        print(n,'is divisble by 3')\n",
    "    else:\n",
    "        print(n,'is not divisible by 3')\n",
    "            \n",
    "          "
   ]
  },
  {
   "cell_type": "code",
   "execution_count": null,
   "metadata": {},
   "outputs": [],
   "source": [
    "#leap\n",
    "n=int(input())\n",
    "if(n%4==0 and n%100!=0) or(n%400==0):\n",
    "    print(n,'is leap year')\n",
    "else:\n",
    "    print(n,\"isn't  a leap\" )"
   ]
  },
  {
   "cell_type": "code",
   "execution_count": null,
   "metadata": {},
   "outputs": [],
   "source": [
    "#check is a num exists in given range inclusive(50,150)\n",
    "n=int(input('enter number'))\n",
    "#Range  is (50,150)\n",
    "if n<=50 and n>=150:\n",
    "    print(n,'is in given range')\n",
    "else:\n",
    "    print(n,'is not in given range')    "
   ]
  },
  {
   "cell_type": "code",
   "execution_count": null,
   "metadata": {},
   "outputs": [],
   "source": [
    "#chekc if a num is mul of 10\n",
    "n=int(input('enter number'))\n",
    "if(n%10==0):\n",
    "    print(n,'is mul of 10')\n",
    "else:\n",
    "    print(n,'is not mul of 10')"
   ]
  },
  {
   "cell_type": "code",
   "execution_count": null,
   "metadata": {},
   "outputs": [],
   "source": [
    "#chekc if a num is a fact of 100\n",
    "n=int(input('enter number'))\n",
    "if 100%n==0:\n",
    "    print('factor')\n",
    "else:\n",
    "    print('not factor')"
   ]
  },
  {
   "cell_type": "code",
   "execution_count": null,
   "metadata": {},
   "outputs": [],
   "source": [
    "#check if a num is equal to given string\n",
    "m=input('enter number')\n",
    "n=(input('enter string'))\n",
    "if len(n)==len(m):\n",
    "    print(True)\n",
    "else:\n",
    "    print(False)   "
   ]
  },
  {
   "cell_type": "code",
   "execution_count": null,
   "metadata": {},
   "outputs": [],
   "source": [
    "#calculate the number of nano seconds in given year consider leap year\n",
    "\n",
    "n=int(input('enter year'))\n",
    "if(n%4==0 and n%100!=0) or(n%400==0):\n",
    "    print('Nanoseconds in',n, 'are',366 * 24 * 60 * 60*(10**9))\n",
    "    \n",
    "else:\n",
    "    print('Nanoseconds in',n, 'are',365.24 * 24 * 60 * 60*(10**9))"
   ]
  },
  {
   "cell_type": "markdown",
   "metadata": {},
   "source": [
    "## Elif statement"
   ]
  },
  {
   "cell_type": "code",
   "execution_count": 1,
   "metadata": {},
   "outputs": [
    {
     "name": "stdout",
     "output_type": "stream",
     "text": [
      "1\n",
      "2\n",
      "3\n",
      "[3] is the greatest number among [2]\n"
     ]
    }
   ],
   "source": [
    "m,n,o = [[int(input())] for _ in range(3)]\n",
    "if(m>n)and(m>o):\n",
    "          print(m,'is the greatest number among',n,o)\n",
    "elif(n>m) and(n>o):\n",
    "          print(n,'is the greatest number among',m,o)\n",
    "else:\n",
    "          print(o,'is the greatest number among',n,)"
   ]
  },
  {
   "cell_type": "code",
   "execution_count": null,
   "metadata": {},
   "outputs": [],
   "source": []
  },
  {
   "cell_type": "markdown",
   "metadata": {},
   "source": [
    "### Nested if\n"
   ]
  },
  {
   "cell_type": "code",
   "execution_count": null,
   "metadata": {},
   "outputs": [],
   "source": [
    "#check if a num is +ve or _ve ,num should be taken from user\n",
    "\n",
    "n=int(input('enter number'))\n",
    "if(n>=0):\n",
    "    if(n==0):\n",
    "        print('number is 0')\n",
    "    else:\n",
    "        print('+ve number')\n",
    "else:\n",
    "    print('-ve number')   "
   ]
  },
  {
   "cell_type": "code",
   "execution_count": 13,
   "metadata": {},
   "outputs": [
    {
     "name": "stdout",
     "output_type": "stream",
     "text": [
      "3\n",
      "12\n",
      "65\n",
      "['3'] is not in given range\n"
     ]
    }
   ],
   "source": [
    "# Task2\n",
    "#n=int(input('enter number'))\n",
    "#lb=int(input('enter number'))\n",
    "#hb=int(input('enter number'))''\n",
    "#Range  is (50,150)\n",
    "n,lb,hb = [[int(input())] for _ in range(3)]\n",
    "\n",
    "if n<=lb and n>=hb:\n",
    "    print(n,'is in given range')\n",
    "else:\n",
    "    print(n,'is not in given range')"
   ]
  },
  {
   "cell_type": "code",
   "execution_count": null,
   "metadata": {},
   "outputs": [],
   "source": [
    "#chekc if a num is a fact of 1000\n",
    "n=int(input('enter number'))\n",
    "if 100%n==0:\n",
    "    print('factor')\n",
    "else:\n",
    "    print('not factor')\n"
   ]
  },
  {
   "cell_type": "code",
   "execution_count": null,
   "metadata": {},
   "outputs": [],
   "source": [
    "#count the number of digit in given number\n",
    "n=int(input('enter number'))\n",
    "c=0\n",
    "while (n>0):\n",
    "    n=n//10\n",
    "    c +=1\n",
    "print(c)"
   ]
  },
  {
   "cell_type": "code",
   "execution_count": 3,
   "metadata": {},
   "outputs": [
    {
     "name": "stdout",
     "output_type": "stream",
     "text": [
      "enter number4\n",
      "is the squareroot of the  2.0\n"
     ]
    }
   ],
   "source": [
    "#calculate the squareroot of number\n",
    "n=int(input('enter number'))    \n",
    "print('is the squareroot of the ',n**(1/2))     "
   ]
  },
  {
   "cell_type": "code",
   "execution_count": 13,
   "metadata": {},
   "outputs": [
    {
     "data": {
      "text/plain": [
       "2"
      ]
     },
     "execution_count": 13,
     "metadata": {},
     "output_type": "execute_result"
    }
   ],
   "source": [
    "#123%100\n",
    "23//10\n"
   ]
  },
  {
   "cell_type": "markdown",
   "metadata": {},
   "source": [
    "### Iterations/Loops"
   ]
  },
  {
   "cell_type": "code",
   "execution_count": 1,
   "metadata": {},
   "outputs": [
    {
     "data": {
      "text/plain": [
       "range(0, 4)"
      ]
     },
     "execution_count": 1,
     "metadata": {},
     "output_type": "execute_result"
    }
   ],
   "source": [
    "range(4)"
   ]
  },
  {
   "cell_type": "code",
   "execution_count": 2,
   "metadata": {},
   "outputs": [
    {
     "data": {
      "text/plain": [
       "range(0, 4)"
      ]
     },
     "execution_count": 2,
     "metadata": {},
     "output_type": "execute_result"
    }
   ],
   "source": [
    "range(0,4)"
   ]
  },
  {
   "cell_type": "markdown",
   "metadata": {},
   "source": [
    "#### For loops"
   ]
  },
  {
   "cell_type": "code",
   "execution_count": 14,
   "metadata": {},
   "outputs": [
    {
     "name": "stdout",
     "output_type": "stream",
     "text": [
      "\n",
      "*\n",
      "**\n",
      "***\n",
      "\n",
      "*\n",
      "**\n"
     ]
    }
   ],
   "source": [
    "for i in range(4):\n",
    "    print(i*\"*\")\n",
    "\n",
    "for j in range(i):\n",
    "    print(j*\"*\")"
   ]
  },
  {
   "cell_type": "code",
   "execution_count": 7,
   "metadata": {},
   "outputs": [
    {
     "name": "stdout",
     "output_type": "stream",
     "text": [
      "P\n",
      "y\n",
      "t\n",
      "h\n",
      "o\n",
      "n\n"
     ]
    }
   ],
   "source": [
    "s='Python'\n",
    "for i in s:\n",
    "    print(i)"
   ]
  },
  {
   "cell_type": "code",
   "execution_count": 9,
   "metadata": {},
   "outputs": [
    {
     "name": "stdout",
     "output_type": "stream",
     "text": [
      "P,y,t,h,o,n,"
     ]
    }
   ],
   "source": [
    "s='Python'\n",
    "for i in s:\n",
    "    print(i,end=',')"
   ]
  },
  {
   "cell_type": "code",
   "execution_count": 16,
   "metadata": {},
   "outputs": [
    {
     "name": "stdout",
     "output_type": "stream",
     "text": [
      "43,50\n",
      "43 56\n"
     ]
    }
   ],
   "source": [
    "print(43,50,sep=',')\n",
    "print(43,56)"
   ]
  },
  {
   "cell_type": "code",
   "execution_count": 19,
   "metadata": {},
   "outputs": [
    {
     "name": "stdout",
     "output_type": "stream",
     "text": [
      "2 4 6 8 10 "
     ]
    }
   ],
   "source": [
    "for i in range(1,11):\n",
    "    if(i%2==0):\n",
    "        print(i,end=' ')"
   ]
  },
  {
   "cell_type": "code",
   "execution_count": 21,
   "metadata": {},
   "outputs": [
    {
     "name": "stdout",
     "output_type": "stream",
     "text": [
      "3 5 7 9 11 "
     ]
    }
   ],
   "source": [
    "for i in range(2,11,2):\n",
    "    print(i+1,end=' ')    "
   ]
  },
  {
   "cell_type": "code",
   "execution_count": 2,
   "metadata": {},
   "outputs": [
    {
     "name": "stdout",
     "output_type": "stream",
     "text": [
      "14,28,42,56,70,84,98,112,126,140,154,168,182,196,210,224,238,252,266,280,294,308,322,336,350,364,378,392,406,420,434,448,462,476,490,504,518,532,546,560,574,588,602,616,630,644,658,672,686,700,714,728,742,756,770,784,798,812,826,840,854,868,882,896,910,924,938,952,966,980,994,"
     ]
    }
   ],
   "source": [
    "for i in range(7,1000,7):\n",
    "    if(i%2==0):\n",
    "        print(i,end=\",\")"
   ]
  },
  {
   "cell_type": "code",
   "execution_count": 3,
   "metadata": {},
   "outputs": [
    {
     "name": "stdout",
     "output_type": "stream",
     "text": [
      "994,980,966,952,938,924,910,896,882,868,854,840,826,812,798,784,770,756,742,728,714,700,686,672,658,644,630,616,602,588,574,560,546,532,518,504,490,476,462,448,434,420,406,392,378,364,350,336,322,308,294,280,266,252,238,224,210,196,182,168,154,140,126,112,98,84,70,56,42,28,14,"
     ]
    }
   ],
   "source": [
    "for i in range(994,6,-7):\n",
    "    if(i%2==0):\n",
    "        print(i,end=\",\")"
   ]
  },
  {
   "cell_type": "code",
   "execution_count": 4,
   "metadata": {},
   "outputs": [
    {
     "name": "stdout",
     "output_type": "stream",
     "text": [
      "98 96 94 92 90 88 86 84 82 80 78 76 74 72 70 68 66 64 62 60 58 56 54 52 50 "
     ]
    }
   ],
   "source": [
    "for i in range(98,49,-2):\n",
    "    print(i,end=' ')"
   ]
  },
  {
   "cell_type": "code",
   "execution_count": null,
   "metadata": {},
   "outputs": [],
   "source": []
  },
  {
   "cell_type": "markdown",
   "metadata": {},
   "source": [
    "#### While loop"
   ]
  },
  {
   "cell_type": "code",
   "execution_count": 6,
   "metadata": {},
   "outputs": [
    {
     "name": "stdout",
     "output_type": "stream",
     "text": [
      "1 2 3 4 5 6 7 8 9 10 "
     ]
    }
   ],
   "source": [
    "i=1\n",
    "while i<=10:\n",
    "    print(i,end=\" \")\n",
    "    i +=1"
   ]
  },
  {
   "cell_type": "code",
   "execution_count": 12,
   "metadata": {},
   "outputs": [
    {
     "name": "stdout",
     "output_type": "stream",
     "text": [
      "3 6 9 12 15 18 21 24 27 30 33 36 39 42 45 48 51 54 57 60 63 66 69 72 75 78 81 84 87 90 93 96 99 "
     ]
    }
   ],
   "source": [
    "i=3\n",
    "while (i<=100):\n",
    "    print(i,end=\" \")\n",
    "    i +=3"
   ]
  },
  {
   "cell_type": "code",
   "execution_count": 2,
   "metadata": {},
   "outputs": [
    {
     "name": "stdout",
     "output_type": "stream",
     "text": [
      "Python\n",
      "P y t h o n "
     ]
    }
   ],
   "source": [
    "#\n",
    "s=input()\n",
    "i=0\n",
    "while (i<len(s)):\n",
    "    print(s[i],end=\" \")\n",
    "    i +=1\n",
    "    "
   ]
  },
  {
   "cell_type": "code",
   "execution_count": null,
   "metadata": {},
   "outputs": [],
   "source": [
    "#Funciton to print the odd number in reverse order\n",
    "def od(n):\n",
    "    while (n,11):\n",
    "    if(i%2!=0)"
   ]
  },
  {
   "cell_type": "markdown",
   "metadata": {},
   "source": [
    "##### Practise programs"
   ]
  },
  {
   "cell_type": "code",
   "execution_count": null,
   "metadata": {},
   "outputs": [],
   "source": [
    "#Funciton to calculate sum of a numbers in range\n",
    "def s(m,n):\n",
    "    summ=0\n",
    "    for i in range(m,n+1):\n",
    "        print(summ +=i)\n",
    "        i +=1\n"
   ]
  },
  {
   "cell_type": "code",
   "execution_count": null,
   "metadata": {},
   "outputs": [],
   "source": [
    "#Funciton to calculate the average of given range\n",
    "# ex: (1,5)->3\n",
    "def avg(m,n):\n",
    "    temp=0\n",
    "    while (m<n):\n",
    "        temp=(m+n)//2\n",
    "        temp +=1\n",
    "    return temp\n",
    "m,n=int(input()),int(input())\n",
    "print(avg(m,n))"
   ]
  },
  {
   "cell_type": "code",
   "execution_count": 5,
   "metadata": {},
   "outputs": [
    {
     "name": "stdout",
     "output_type": "stream",
     "text": [
      "start_year1997\n",
      "end_year2019\n",
      "2000\n",
      "2004\n",
      "2008\n",
      "2012\n",
      "2016\n",
      "None\n"
     ]
    }
   ],
   "source": [
    "#Funciton to generate all leap years in given time period\n",
    "def lp():\n",
    "    for i in range(l,h+1):\n",
    "        if(i%4==0 and i%100!=0) or(i%400==0):\n",
    "            print(i)\n",
    "l,h=int(input('start_year')),int(input('end_year'))\n",
    "print(lp())"
   ]
  },
  {
   "cell_type": "code",
   "execution_count": 14,
   "metadata": {},
   "outputs": [
    {
     "name": "stdout",
     "output_type": "stream",
     "text": [
      "start_year1997\n",
      "end_year2019\n",
      "8035 is the all days in given time period\n",
      "None\n"
     ]
    }
   ],
   "source": [
    "#Funciton to  calculate all days in given time period\n",
    "def ald():\n",
    "    c=0\n",
    "    for i in range(l,h+1):\n",
    "        if(i%4==0 and i%100!=0) or(i%400==0):\n",
    "            c +=1\n",
    "        \n",
    "    print(c*366+((h-l-c)*365),'is the all days in given time period')\n",
    "l,h=int(input('start_year')),int(input('end_year'))\n",
    "print(ald())"
   ]
  },
  {
   "cell_type": "code",
   "execution_count": 24,
   "metadata": {},
   "outputs": [
    {
     "name": "stdout",
     "output_type": "stream",
     "text": [
      "24\n",
      "6 12 18 24 None\n"
     ]
    }
   ],
   "source": [
    "#Funciton to print all the numbers divisible by 6 & not a factor of 100\n",
    "def s():\n",
    "    for i in range(1,n+1):\n",
    "        if(i%6==0 and i%100!=0):\n",
    "            print(i,end=' ')\n",
    "        '''else:\n",
    "            print(i,end=',')'''\n",
    "n=int(input())\n",
    "print(s())"
   ]
  },
  {
   "cell_type": "code",
   "execution_count": null,
   "metadata": {},
   "outputs": [],
   "source": [
    "#Funciton to  calculate avg of cubers of all even number\n",
    "def div(lb,ub):\n",
    "    c=0\n",
    "    for i in range(lb,ub+1):\n",
    "        if(i%2==0):\n",
    "            temp=i**3\n",
    "            c +=1\n",
    "            avg=temp//c\n",
    "            return (avg)\n",
    "lb,ub = int(input()),int(input())\n",
    "div(lb,ub)"
   ]
  },
  {
   "cell_type": "code",
   "execution_count": 2,
   "metadata": {},
   "outputs": [
    {
     "name": "stdout",
     "output_type": "stream",
     "text": [
      "4\n",
      "4 is not prime\n",
      "None\n"
     ]
    }
   ],
   "source": [
    "#Funciton to  calculate prime or not\n",
    "def p():\n",
    "    c=0\n",
    "    for i in range(1,n+1):\n",
    "        if(n%i==0):\n",
    "            c +=1\n",
    "    if(c==2):\n",
    "        print(n,'is prime')\n",
    "    else:\n",
    "        print(n,'is not prime')\n",
    "    \n",
    "n=int(input())\n",
    "print(p())"
   ]
  },
  {
   "cell_type": "code",
   "execution_count": 4,
   "metadata": {},
   "outputs": [
    {
     "name": "stdout",
     "output_type": "stream",
     "text": [
      "6\n",
      "6\n",
      "None\n"
     ]
    }
   ],
   "source": [
    "#Funciton to  calculate the avg of first N Prime numbers\n",
    "def p():\n",
    "    c=0\n",
    "    for i in range(1,n+1):\n",
    "        if(n%i==0):\n",
    "            c +=1\n",
    "            res=i\n",
    "    print(res)\n",
    "    '''if(c==2):\n",
    "        print(n,'is prime')\n",
    "    else:\n",
    "        print(n,'is not prime')\n",
    "    '''\n",
    "n=int(input())\n",
    "print(p())\n"
   ]
  },
  {
   "cell_type": "code",
   "execution_count": 9,
   "metadata": {},
   "outputs": [
    {
     "name": "stdout",
     "output_type": "stream",
     "text": [
      "4\n",
      "1 2 3 4 "
     ]
    }
   ],
   "source": [
    "#Task-1\n",
    "#natural numbers using functions and for loop\n",
    "def natural(n):\n",
    "    i=1\n",
    "    for i in range (1,n+1):\n",
    "        print (i,end=\" \")\n",
    "n=int(input())\n",
    "natural(n)"
   ]
  },
  {
   "cell_type": "code",
   "execution_count": 2,
   "metadata": {},
   "outputs": [
    {
     "name": "stdout",
     "output_type": "stream",
     "text": [
      "4\n",
      "1 2 3 4 "
     ]
    }
   ],
   "source": [
    "#Task1 While loop\n",
    "#natural numbers using functions and for loop\n",
    "def natural(n):\n",
    "    i=1\n",
    "    while (i<=n):\n",
    "        print (i,end=\" \")\n",
    "        i +=1\n",
    "n=int(input())\n",
    "natural(n)"
   ]
  },
  {
   "cell_type": "code",
   "execution_count": null,
   "metadata": {},
   "outputs": [],
   "source": []
  },
  {
   "cell_type": "code",
   "execution_count": 12,
   "metadata": {},
   "outputs": [
    {
     "name": "stdout",
     "output_type": "stream",
     "text": [
      "3 Fizz\n",
      "5 Buzz\n",
      "6 Fizz\n",
      "9 Fizz\n",
      "10 Buzz\n",
      "12 Fizz\n",
      "15 FizzBuzz\n",
      "18 Fizz\n",
      "20 Buzz\n",
      "21 Fizz\n",
      "24 Fizz\n",
      "25 Buzz\n",
      "27 Fizz\n",
      "30 FizzBuzz\n",
      "33 Fizz\n",
      "35 Buzz\n",
      "36 Fizz\n",
      "39 Fizz\n",
      "40 Buzz\n",
      "42 Fizz\n",
      "45 FizzBuzz\n",
      "48 Fizz\n",
      "50 Buzz\n"
     ]
    }
   ],
   "source": [
    "#Task1- For loop\n",
    "#Iterate the integers from 1 to 50, for multiples of 3 print “Fizz” and for multiples of 5 print “Buzz” and for multiples of both 3 and 5 print “FizzBuzz”.\n",
    "for i in range(1,50+1):\n",
    "    if(i%3==0) and (i%5==0):\n",
    "        print(i,\"FizzBuzz\")\n",
    "    elif (i%3==0):\n",
    "        print(i,\"Fizz\")\n",
    "    elif (i%5==0):\n",
    "        print(i,\"Buzz\")           "
   ]
  },
  {
   "cell_type": "code",
   "execution_count": 4,
   "metadata": {},
   "outputs": [
    {
     "name": "stdout",
     "output_type": "stream",
     "text": [
      "3\n",
      "3 x = 30\n",
      "3 x = 33\n",
      "3 x = 36\n",
      "3 x = 39\n",
      "3 x = 42\n",
      "3 x = 45\n",
      "3 x = 48\n",
      "3 x = 51\n",
      "3 x = 54\n",
      "3 x = 57\n",
      "3 x = 60\n"
     ]
    }
   ],
   "source": [
    "#Task2-For loop\n",
    "#TaskProgram to print the multiplication table from range between 10 to 20   \n",
    "i=10\n",
    "n=int(input())\n",
    "while i<=20:\n",
    "    print(n,\"x\",\"=\",n*i)\n",
    "    i +=1    "
   ]
  },
  {
   "cell_type": "code",
   "execution_count": null,
   "metadata": {},
   "outputs": [],
   "source": []
  }
 ],
 "metadata": {
  "kernelspec": {
   "display_name": "Python 3",
   "language": "python",
   "name": "python3"
  },
  "language_info": {
   "codemirror_mode": {
    "name": "ipython",
    "version": 3
   },
   "file_extension": ".py",
   "mimetype": "text/x-python",
   "name": "python",
   "nbconvert_exporter": "python",
   "pygments_lexer": "ipython3",
   "version": "3.7.3"
  }
 },
 "nbformat": 4,
 "nbformat_minor": 2
}

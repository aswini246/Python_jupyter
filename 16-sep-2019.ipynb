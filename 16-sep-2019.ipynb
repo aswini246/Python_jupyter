{
 "cells": [
  {
   "cell_type": "markdown",
   "metadata": {},
   "source": [
    "## Regular Expressions\n",
    "\n",
    "*Syntax : import re*\n",
    "- re.findall()\n",
    "- re.search()\n",
    "- re.match()\n",
    "- re.sub()\n",
    "- re.finditer()"
   ]
  },
  {
   "cell_type": "markdown",
   "metadata": {},
   "source": [
    "- set '[ ]' --> We can insert set of or group of chars,numbers etc.\n",
    "- Caret '^g' --> starts with\n",
    "- Doller '$'--> Ends with number/word\n",
    "- Star \" * \" --> Zero or more occurance\n",
    "- plus '+' -->one or more occurance\n",
    "- {} --> Exactly the specified \n",
    "- '|' or\n",
    "- ''-special sequences\n",
    "- A period '.' --> Represent a character\n"
   ]
  },
  {
   "cell_type": "markdown",
   "metadata": {},
   "source": [
    "### Special sequences\n",
    "- \\A --> Character is at begining of string\n",
    "- \\b --> character is at begining or ending of string\n",
    "- \\d --> Any digit\n",
    "- \\D --> non-digit\n",
    "- \\s --> whitespace\n",
    "- \\S --> non-whitespace\n",
    "- \\w --> alphanumeric\n",
    "- \\W --> non-alphanumeric(ex:!@#&$)"
   ]
  },
  {
   "cell_type": "code",
   "execution_count": 1,
   "metadata": {},
   "outputs": [
    {
     "data": {
      "text/plain": [
       "['h', 'e', 'h', 'g', 'a', 'i', 'g', 'l', 'a', 'g', 'a', 'g', 'e']"
      ]
     },
     "execution_count": 1,
     "metadata": {},
     "output_type": "execute_result"
    }
   ],
   "source": [
    "#Write a program to find the characters b/n 'o' and 't'\n",
    "import re\n",
    "s='the python programming language'\n",
    "s2=re.findall('[a-l]',s)\n",
    "s2"
   ]
  },
  {
   "cell_type": "code",
   "execution_count": 5,
   "metadata": {},
   "outputs": [
    {
     "data": {
      "text/plain": [
       "['1', '2', '3', '4', '5', '6', '7', '0', '9', '8', '7', '6', '5', '4']"
      ]
     },
     "execution_count": 5,
     "metadata": {},
     "output_type": "execute_result"
    }
   ],
   "source": [
    "#Write a progrm to find the digits in a given string\n",
    "s='wfrtytu dsfgdg 12345670987654'\n",
    "s2=re.findall('\\d',s)\n",
    "s2"
   ]
  },
  {
   "cell_type": "code",
   "execution_count": 6,
   "metadata": {},
   "outputs": [
    {
     "data": {
      "text/plain": [
       "['w', 'f', 'r', 't', 'y', 't', 'u', ' ', 'd', 's', 'f', 'g', 'd', 'g', ' ']"
      ]
     },
     "execution_count": 6,
     "metadata": {},
     "output_type": "execute_result"
    }
   ],
   "source": [
    "#Write a progrm to find the non digits in a given string\n",
    "s='wfrtytu dsfgdg 12345670987654'\n",
    "s2=re.findall('\\D',s)\n",
    "s2"
   ]
  },
  {
   "cell_type": "code",
   "execution_count": 7,
   "metadata": {},
   "outputs": [
    {
     "data": {
      "text/plain": [
       "[' ', ' ']"
      ]
     },
     "execution_count": 7,
     "metadata": {},
     "output_type": "execute_result"
    }
   ],
   "source": [
    "#Write a progrm to find \n",
    "s='wfrtytu dsfgdg 12345670987654'\n",
    "s2=re.findall('\\s',s)\n",
    "s2"
   ]
  },
  {
   "cell_type": "code",
   "execution_count": 8,
   "metadata": {},
   "outputs": [
    {
     "data": {
      "text/plain": [
       "['w',\n",
       " 'f',\n",
       " 'r',\n",
       " 't',\n",
       " 'y',\n",
       " 't',\n",
       " 'u',\n",
       " 'd',\n",
       " 's',\n",
       " 'f',\n",
       " 'g',\n",
       " 'd',\n",
       " 'g',\n",
       " '1',\n",
       " '2',\n",
       " '3',\n",
       " '4',\n",
       " '5',\n",
       " '6',\n",
       " '7',\n",
       " '0',\n",
       " '9',\n",
       " '8',\n",
       " '7',\n",
       " '6',\n",
       " '5',\n",
       " '4']"
      ]
     },
     "execution_count": 8,
     "metadata": {},
     "output_type": "execute_result"
    }
   ],
   "source": [
    "#Write a progrm to find \n",
    "s='wfrtytu dsfgdg 12345670987654'\n",
    "s2=re.findall('\\S',s)\n",
    "s2"
   ]
  },
  {
   "cell_type": "code",
   "execution_count": 9,
   "metadata": {},
   "outputs": [
    {
     "data": {
      "text/plain": [
       "['progr']"
      ]
     },
     "execution_count": 9,
     "metadata": {},
     "output_type": "execute_result"
    }
   ],
   "source": [
    "#Write a progrm to find the digits in a given string\n",
    "s='programming'\n",
    "s2=re.findall('pr...',s)\n",
    "s2"
   ]
  },
  {
   "cell_type": "code",
   "execution_count": 11,
   "metadata": {},
   "outputs": [
    {
     "name": "stdout",
     "output_type": "stream",
     "text": [
      "+9110010410800\n"
     ]
    },
    {
     "data": {
      "text/plain": [
       "False"
      ]
     },
     "execution_count": 11,
     "metadata": {},
     "output_type": "execute_result"
    }
   ],
   "source": [
    "#Phone number validator\n",
    "import re\n",
    "def pvr(number):\n",
    "    p='[6-9][0-9]{9}[+][9][1][6-9][0-9]{9}'\n",
    "    if re.match(p,str(number)):\n",
    "        return True\n",
    "    else:\n",
    "        return False\n",
    "n=int(input())\n",
    "pvr(n)"
   ]
  },
  {
   "cell_type": "code",
   "execution_count": 13,
   "metadata": {},
   "outputs": [
    {
     "data": {
      "text/plain": [
       "'Python:programming:language'"
      ]
     },
     "execution_count": 13,
     "metadata": {},
     "output_type": "execute_result"
    }
   ],
   "source": [
    "# re.sub() method\n",
    "#write a program to replace white space with colon:\n",
    "import re\n",
    "s='Python programming language'\n",
    "s2=re.sub('\\s',':',s)\n",
    "s2"
   ]
  },
  {
   "cell_type": "code",
   "execution_count": 15,
   "metadata": {},
   "outputs": [
    {
     "data": {
      "text/plain": [
       "'Pythonprogramminglanguage'"
      ]
     },
     "execution_count": 15,
     "metadata": {},
     "output_type": "execute_result"
    }
   ],
   "source": [
    "# re.sub() method\n",
    "#write a program to replace white space with colon:\n",
    "import re\n",
    "s='Python programming language'\n",
    "s2=re.sub('\\s','',s)\n",
    "s2"
   ]
  },
  {
   "cell_type": "code",
   "execution_count": 2,
   "metadata": {},
   "outputs": [
    {
     "data": {
      "text/plain": [
       "['cseengineering246@gmail.com']"
      ]
     },
     "execution_count": 2,
     "metadata": {},
     "output_type": "execute_result"
    }
   ],
   "source": [
    "import re\n",
    "s='cseengineering246@gmail.com'\n",
    "s2=re.findall('[a-z][0-9a-z].{5,30}[@][0-9a-z]{3,8}[.][a-z]{2,4}',s)\n",
    "s2"
   ]
  },
  {
   "cell_type": "code",
   "execution_count": 2,
   "metadata": {},
   "outputs": [
    {
     "name": "stdout",
     "output_type": "stream",
     "text": [
      "n140710@rguktn.ac.in\n"
     ]
    },
    {
     "data": {
      "text/plain": [
       "False"
      ]
     },
     "execution_count": 2,
     "metadata": {},
     "output_type": "execute_result"
    }
   ],
   "source": [
    "import re\n",
    "def mailid(mail):\n",
    "    p='^[a-z][0-9a-z]{5,30}[.][@][0-9a-z]{3,8}[.][a-z]{2,4}|[.][a-z]{2,4}$'\n",
    "    if re.match(p,str(mail)):\n",
    "        return True\n",
    "    else:\n",
    "        return False\n",
    "mail=input()\n",
    "mailid(mail)"
   ]
  },
  {
   "cell_type": "code",
   "execution_count": null,
   "metadata": {},
   "outputs": [],
   "source": []
  }
 ],
 "metadata": {
  "kernelspec": {
   "display_name": "Python 3",
   "language": "python",
   "name": "python3"
  },
  "language_info": {
   "codemirror_mode": {
    "name": "ipython",
    "version": 3
   },
   "file_extension": ".py",
   "mimetype": "text/x-python",
   "name": "python",
   "nbconvert_exporter": "python",
   "pygments_lexer": "ipython3",
   "version": "3.7.3"
  }
 },
 "nbformat": 4,
 "nbformat_minor": 2
}

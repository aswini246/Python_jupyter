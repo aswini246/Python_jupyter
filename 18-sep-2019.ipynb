{
 "cells": [
  {
   "cell_type": "markdown",
   "metadata": {},
   "source": [
    "### File Handling Functions in Python\n",
    "#### Built-In function in Files\n",
    "\n",
    "- open()\n",
    "- close()\n",
    "\n",
    "##### Files contail 3 types of modes:\n",
    "\n",
    "- r\n",
    "        read() ---->It reads entire file as a single string\n",
    "        readline()--->It reads only single line\n",
    "        readlines()--->It reads line by line\n",
    "    w\n",
    "        write() ---> Using this we can write data into files(within quotes\"\n",
    "    a\n",
    "\n",
    "###### To create a file using \"w\" mode"
   ]
  },
  {
   "cell_type": "code",
   "execution_count": 2,
   "metadata": {},
   "outputs": [
    {
     "name": "stdout",
     "output_type": "stream",
     "text": [
      "12\n"
     ]
    }
   ],
   "source": [
    "f=open(\"file1.txt\",\"w\")\n",
    "f2=f.write(\"Hello all!!!\")\n",
    "print(f2)\n",
    "f.close()"
   ]
  },
  {
   "cell_type": "markdown",
   "metadata": {},
   "source": [
    "#### To read a file using \"r\" Mode"
   ]
  },
  {
   "cell_type": "code",
   "execution_count": 5,
   "metadata": {},
   "outputs": [
    {
     "name": "stdout",
     "output_type": "stream",
     "text": [
      "Hello all!!!\n",
      "\n",
      "This is our MSTP class\n",
      "123456780987654\n",
      ":)\n",
      ";)\n",
      "efdttytuyt12446 565fdhgju\n"
     ]
    }
   ],
   "source": [
    "f=open(\"file1.txt\",\"r\")\n",
    "print(f.read())\n",
    "f.close()"
   ]
  },
  {
   "cell_type": "code",
   "execution_count": 6,
   "metadata": {},
   "outputs": [
    {
     "name": "stdout",
     "output_type": "stream",
     "text": [
      "Hello all!!!\n",
      "\n",
      "This is our MSTP class\n",
      "123456780987654\n",
      ":)\n",
      ";)\n",
      "efdttytuyt12446 565fdhgju\n"
     ]
    }
   ],
   "source": [
    "f=open(\"file1.txt\",\"r\")\n",
    "print(f.read())\n",
    "f.close()"
   ]
  },
  {
   "cell_type": "code",
   "execution_count": 7,
   "metadata": {},
   "outputs": [
    {
     "name": "stdout",
     "output_type": "stream",
     "text": [
      "Hello all!!!\n",
      "\n"
     ]
    }
   ],
   "source": [
    "f=open(\"file1.txt\",\"r\")\n",
    "print(f.readline())\n",
    "f.close()"
   ]
  },
  {
   "cell_type": "code",
   "execution_count": 8,
   "metadata": {},
   "outputs": [
    {
     "name": "stdout",
     "output_type": "stream",
     "text": [
      "['Hello all!!!\\n', '\\n', 'This is our MSTP class\\n', '123456780987654\\n', ':)\\n', ';)\\n', 'efdttytuyt12446 565fdhgju']\n"
     ]
    }
   ],
   "source": [
    "f=open(\"file1.txt\",\"r\")\n",
    "print(f.readlines())\n",
    "f.close()"
   ]
  },
  {
   "cell_type": "code",
   "execution_count": 10,
   "metadata": {},
   "outputs": [
    {
     "name": "stdout",
     "output_type": "stream",
     "text": [
      "Hello all!!!\n",
      "\n",
      "This is our MSTP class\n",
      "123456780987654\n",
      ":)\n",
      ";)\n",
      "efdttytuyt12446 565fdhgju\n"
     ]
    }
   ],
   "source": [
    "def reading(o):\n",
    "    print(o.read())\n",
    "f=open(\"file1.txt\",\"r\")\n",
    "reading(f)"
   ]
  },
  {
   "cell_type": "code",
   "execution_count": 11,
   "metadata": {},
   "outputs": [
    {
     "name": "stdout",
     "output_type": "stream",
     "text": [
      "Hello all!!!\n",
      "\n",
      "This is our MSTP class\n",
      "123456780987654\n",
      ":)\n",
      ";)\n",
      "efdttytuyt12446 565fdhgju\n"
     ]
    }
   ],
   "source": [
    "# Using Function\n",
    "# no need of external close for files\n",
    "def readFile(filepath):\n",
    "    with open(filepath,\"r\") as f:\n",
    "        data=f.read()\n",
    "    return data\n",
    "filepath=\"file1.txt\"\n",
    "data=readFile(filepath)\n",
    "print(data)"
   ]
  },
  {
   "cell_type": "code",
   "execution_count": 12,
   "metadata": {},
   "outputs": [
    {
     "name": "stdout",
     "output_type": "stream",
     "text": [
      "Hello all!!!\n",
      "\n",
      "\n",
      "\n",
      "This is our MSTP class\n",
      "\n",
      "123456780987654\n",
      "\n",
      ":)\n",
      "\n",
      ";)\n",
      "\n",
      "efdttytuyt12446 565fdhgju\n"
     ]
    }
   ],
   "source": [
    "#Using for loop\n",
    "f=open(\"file1.txt\",\"r\")\n",
    "for l in f.readlines():\n",
    "    print(l)"
   ]
  },
  {
   "cell_type": "code",
   "execution_count": 13,
   "metadata": {},
   "outputs": [
    {
     "name": "stdout",
     "output_type": "stream",
     "text": [
      "H\n",
      "e\n",
      "l\n",
      "l\n",
      "o\n",
      " \n",
      "a\n",
      "l\n",
      "l\n",
      "!\n",
      "!\n",
      "!\n",
      "\n",
      "\n",
      "\n",
      "\n",
      "T\n",
      "h\n",
      "i\n",
      "s\n",
      " \n",
      "i\n",
      "s\n",
      " \n",
      "o\n",
      "u\n",
      "r\n",
      " \n",
      "M\n",
      "S\n",
      "T\n",
      "P\n",
      " \n",
      "c\n",
      "l\n",
      "a\n",
      "s\n",
      "s\n",
      "\n",
      "\n",
      "1\n",
      "2\n",
      "3\n",
      "4\n",
      "5\n",
      "6\n",
      "7\n",
      "8\n",
      "0\n",
      "9\n",
      "8\n",
      "7\n",
      "6\n",
      "5\n",
      "4\n",
      "\n",
      "\n",
      ":\n",
      ")\n",
      "\n",
      "\n",
      ";\n",
      ")\n",
      "\n",
      "\n",
      "e\n",
      "f\n",
      "d\n",
      "t\n",
      "t\n",
      "y\n",
      "t\n",
      "u\n",
      "y\n",
      "t\n",
      "1\n",
      "2\n",
      "4\n",
      "4\n",
      "6\n",
      " \n",
      "5\n",
      "6\n",
      "5\n",
      "f\n",
      "d\n",
      "h\n",
      "g\n",
      "j\n",
      "u\n"
     ]
    }
   ],
   "source": [
    "# Using for loop\n",
    "f=open(\"file1.txt\",\"r\")\n",
    "for l in f.read():\n",
    "    print(l)"
   ]
  },
  {
   "cell_type": "code",
   "execution_count": 14,
   "metadata": {},
   "outputs": [
    {
     "name": "stdout",
     "output_type": "stream",
     "text": [
      "H\n",
      "e\n",
      "l\n",
      "l\n",
      "o\n",
      " \n",
      "a\n",
      "l\n",
      "l\n",
      "!\n",
      "!\n",
      "!\n",
      "\n",
      "\n"
     ]
    }
   ],
   "source": [
    "# Using for loop\n",
    "f=open(\"file1.txt\",\"r\")\n",
    "for l in f.readline():\n",
    "    print(l)\n",
    "f.close()"
   ]
  },
  {
   "cell_type": "code",
   "execution_count": 15,
   "metadata": {},
   "outputs": [
    {
     "name": "stdout",
     "output_type": "stream",
     "text": [
      "Hello all!!!\n",
      "\n",
      "\n",
      "\n",
      "This is our MSTP class\n",
      "\n",
      "123456780987654\n",
      "\n",
      ":)\n",
      "\n",
      ";)\n",
      "\n",
      "efdttytuyt12446 565fdhgju\n"
     ]
    }
   ],
   "source": [
    "# Using for loop\n",
    "f=open(\"file1.txt\",\"r\")\n",
    "for l in f:\n",
    "    print(l)"
   ]
  },
  {
   "cell_type": "code",
   "execution_count": 16,
   "metadata": {},
   "outputs": [
    {
     "name": "stdout",
     "output_type": "stream",
     "text": [
      "Hello\n"
     ]
    }
   ],
   "source": [
    "# Write a program to read only certain number of character from a file\n",
    "f=open(\"file1.txt\",\"r\")\n",
    "print(f.read(5))"
   ]
  },
  {
   "cell_type": "code",
   "execution_count": 17,
   "metadata": {},
   "outputs": [
    {
     "name": "stdout",
     "output_type": "stream",
     "text": [
      "line 1 : 12\n",
      "line 2 : 1\n",
      "line 3 : 19\n",
      "line 4 : 16\n",
      "line 5 : 3\n",
      "line 6 : 3\n",
      "line 7 : 24\n"
     ]
    }
   ],
   "source": [
    "# Write a program to count number of lines and characters in a file\n",
    "# output\n",
    "#line1:character count\n",
    "#line2:character count\n",
    "f=open(\"file1.txt\",\"r\")\n",
    "line=0\n",
    "char=0\n",
    "for l in f.readlines():\n",
    "    char=0\n",
    "    line+=1\n",
    "    for i in l:\n",
    "        if i!=\" \":\n",
    "            char+=1\n",
    "    print(\"line\",line,\":\",char)\n",
    "f.close()"
   ]
  },
  {
   "cell_type": "code",
   "execution_count": 18,
   "metadata": {},
   "outputs": [
    {
     "name": "stdout",
     "output_type": "stream",
     "text": [
      "line 1 : 2\n",
      "line 2 : 1\n",
      "line 3 : 5\n",
      "line 4 : 1\n",
      "line 5 : 1\n",
      "line 6 : 1\n",
      "line 7 : 2\n"
     ]
    }
   ],
   "source": [
    "# Write a program to count number of lines and words in a file\n",
    "# output\n",
    "#line1:words count\n",
    "#line2:words count\n",
    "f=open(\"file1.txt\",\"r\")\n",
    "word=1\n",
    "line=0\n",
    "for l in f.readlines():\n",
    "    word=1\n",
    "    line+=1\n",
    "    for i in l:\n",
    "        if i==\" \":\n",
    "            word+=1\n",
    "    print(\"line\",line,\":\",word)\n",
    "f.close()"
   ]
  },
  {
   "cell_type": "code",
   "execution_count": 29,
   "metadata": {},
   "outputs": [
    {
     "name": "stdout",
     "output_type": "stream",
     "text": [
      "Enter any namekaruna\n",
      "Karuna\t\tkarunamo321@gmail.com\t7123450678\n"
     ]
    }
   ],
   "source": [
    "# Write a program to search a name in contacts\n",
    "def searchContact(name):\n",
    "    f=open(\"contacts.txt\",\"r\")\n",
    "    for l in f.readlines():\n",
    "        if name in l:\n",
    "            print(l)\n",
    "    f.close()\n",
    "name=input(\"Enter any name\")\n",
    "searchContact(name)"
   ]
  },
  {
   "cell_type": "code",
   "execution_count": null,
   "metadata": {},
   "outputs": [],
   "source": [
    "import re\n",
    "def searchContact(name):\n",
    "    with open(\"contacts.txt\",\"r\") as f:\n",
    "        for i in f.readlines():\n",
    "            if re.search(name,i):\n",
    "                print(i)\n",
    "name=input(\"Enter any name\")\n",
    "searchContact(name)"
   ]
  },
  {
   "cell_type": "code",
   "execution_count": 21,
   "metadata": {},
   "outputs": [],
   "source": [
    "f=open(\"file1.txt\",\"a\")\n",
    "f1=f.write(\"\\nGood Evening\")\n",
    "f.close()"
   ]
  },
  {
   "cell_type": "markdown",
   "metadata": {},
   "source": [
    "##### Write a program to read file line by line and store in a list\n",
    "##### Write a program to count the frequency of each word"
   ]
  },
  {
   "cell_type": "code",
   "execution_count": 22,
   "metadata": {},
   "outputs": [
    {
     "name": "stdout",
     "output_type": "stream",
     "text": [
      "['Hello all!!!\\n', '\\n', 'This is our MSTP class\\n', '123456780987654\\n', ':)\\n', ';)\\n', 'efdttytuyt12446 565fdhgju\\n', 'Good Evening']\n"
     ]
    }
   ],
   "source": [
    "f=open(\"file1.txt\",\"r\")\n",
    "l=[]\n",
    "for line in f.readlines():\n",
    "    l.append(line)\n",
    "print(l)\n",
    "f.close()"
   ]
  },
  {
   "cell_type": "code",
   "execution_count": 23,
   "metadata": {},
   "outputs": [
    {
     "name": "stdout",
     "output_type": "stream",
     "text": [
      "{'Hello': 1, 'all!!!\\n': 1, '\\n': 1, 'This': 1, 'is': 1, 'our': 1, 'MSTP': 1, 'class\\n': 1, '123456780987654\\n': 1, ':)\\n': 1, ';)\\n': 1, 'efdttytuyt12446': 1, '565fdhgju\\n': 1, 'Good': 1, 'Evening': 1}\n"
     ]
    }
   ],
   "source": [
    "f=open(\"file1.txt\",\"r\")\n",
    "d={}\n",
    "for line in f.readlines():\n",
    "    l=line.split(\" \")\n",
    "    for word in l:\n",
    "        if word not in d:\n",
    "            d[word]=1\n",
    "        else:\n",
    "            d[word]+=1\n",
    "            \n",
    "print(d)\n",
    "        \n",
    "f.close()"
   ]
  },
  {
   "cell_type": "code",
   "execution_count": 24,
   "metadata": {},
   "outputs": [
    {
     "name": "stdout",
     "output_type": "stream",
     "text": [
      "Counter({'Hello': 1, 'all!!!': 1, 'This': 1, 'is': 1, 'our': 1, 'MSTP': 1, 'class': 1, '123456780987654': 1, ':)': 1, ';)': 1, 'efdttytuyt12446': 1, '565fdhgju': 1, 'Good': 1, 'Evening': 1})\n"
     ]
    }
   ],
   "source": [
    "from collections import Counter\n",
    "def wordFreq(filepath):\n",
    "    with open(filepath,\"r\") as f:\n",
    "        return Counter(f.read().split())\n",
    "print(wordFreq(filepath))"
   ]
  },
  {
   "cell_type": "code",
   "execution_count": 25,
   "metadata": {},
   "outputs": [],
   "source": [
    "from random import randint\n",
    "def marks(num,lb,ub):\n",
    "    with open(\"marks.txt\",\"w\") as f:\n",
    "        for i in range(0,num):\n",
    "            n=randint(lb,ub)\n",
    "            f.write(str(n)+'\\n')\n",
    "    f.close()\n",
    "    return\n",
    "marks(100,0,100)"
   ]
  },
  {
   "cell_type": "markdown",
   "metadata": {},
   "source": [
    "### tell() and seek() Methods"
   ]
  },
  {
   "cell_type": "code",
   "execution_count": 26,
   "metadata": {},
   "outputs": [
    {
     "name": "stdout",
     "output_type": "stream",
     "text": [
      "5\n"
     ]
    }
   ],
   "source": [
    "f=open(\"file1.txt\",\"r\")\n",
    "f.read()\n",
    "print(f.seek(5))#Changes the cursor position to 5\n",
    "f.close()"
   ]
  },
  {
   "cell_type": "code",
   "execution_count": 27,
   "metadata": {},
   "outputs": [
    {
     "name": "stdout",
     "output_type": "stream",
     "text": [
      "98\n"
     ]
    }
   ],
   "source": [
    "f=open(\"file1.txt\",\"r\")\n",
    "f.read()\n",
    "print(f.tell())\n",
    "f.close()"
   ]
  },
  {
   "cell_type": "code",
   "execution_count": 28,
   "metadata": {},
   "outputs": [
    {
     "name": "stdout",
     "output_type": "stream",
     "text": [
      "389 kb\n"
     ]
    }
   ],
   "source": [
    "# Program to get the size of file\n",
    "import os\n",
    "print(os.path.getsize(\"marks.txt\"),\"kb\")"
   ]
  },
  {
   "cell_type": "code",
   "execution_count": null,
   "metadata": {},
   "outputs": [],
   "source": []
  }
 ],
 "metadata": {
  "kernelspec": {
   "display_name": "Python 3",
   "language": "python",
   "name": "python3"
  },
  "language_info": {
   "codemirror_mode": {
    "name": "ipython",
    "version": 3
   },
   "file_extension": ".py",
   "mimetype": "text/x-python",
   "name": "python",
   "nbconvert_exporter": "python",
   "pygments_lexer": "ipython3",
   "version": "3.7.3"
  }
 },
 "nbformat": 4,
 "nbformat_minor": 2
}

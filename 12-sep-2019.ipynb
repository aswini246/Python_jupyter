{
 "cells": [
  {
   "cell_type": "markdown",
   "metadata": {},
   "source": [
    "# Dictionaries"
   ]
  },
  {
   "cell_type": "code",
   "execution_count": 1,
   "metadata": {},
   "outputs": [
    {
     "data": {
      "text/plain": [
       "[213, 46, 876]"
      ]
     },
     "execution_count": 1,
     "metadata": {},
     "output_type": "execute_result"
    }
   ],
   "source": [
    "l=[213,46,876]\n",
    "l"
   ]
  },
  {
   "cell_type": "code",
   "execution_count": 6,
   "metadata": {},
   "outputs": [
    {
     "name": "stdout",
     "output_type": "stream",
     "text": [
      "10\n",
      "100\n"
     ]
    }
   ],
   "source": [
    "dict1={}\n",
    "dict1={'key1':100,'key2':20}\n",
    "dict2={1:10,2:20,3:30}\n",
    "print(dict2[1])\n",
    "print(dict1['key1'])"
   ]
  },
  {
   "cell_type": "markdown",
   "metadata": {},
   "source": [
    "### Dictionary methods\n",
    "- get()"
   ]
  },
  {
   "cell_type": "code",
   "execution_count": 7,
   "metadata": {},
   "outputs": [
    {
     "data": {
      "text/plain": [
       "200"
      ]
     },
     "execution_count": 7,
     "metadata": {},
     "output_type": "execute_result"
    }
   ],
   "source": [
    "d={'k':100,'l':200,'m':300}\n",
    "f=d.get('l')\n",
    "f"
   ]
  },
  {
   "cell_type": "markdown",
   "metadata": {},
   "source": [
    "- keys(),values() and items()"
   ]
  },
  {
   "cell_type": "code",
   "execution_count": 8,
   "metadata": {},
   "outputs": [
    {
     "name": "stdout",
     "output_type": "stream",
     "text": [
      "dict_keys(['k', 'l', 'm'])\n",
      "dict_values([100, 200, 300])\n",
      "dict_items([('k', 100), ('l', 200), ('m', 300)])\n"
     ]
    }
   ],
   "source": [
    "print(d.keys())\n",
    "print(d.values())\n",
    "print(d.items())"
   ]
  },
  {
   "cell_type": "markdown",
   "metadata": {},
   "source": [
    "- update()\n",
    "- setdefault()\n",
    "- copy()"
   ]
  },
  {
   "cell_type": "code",
   "execution_count": 12,
   "metadata": {},
   "outputs": [
    {
     "name": "stdout",
     "output_type": "stream",
     "text": [
      "None\n",
      "None\n"
     ]
    },
    {
     "data": {
      "text/plain": [
       "{'name': 'Vennela',\n",
       " 'id': 140000,\n",
       " 'branch': 'cse',\n",
       " 'age': 20,\n",
       " 'cell': 1234567890}"
      ]
     },
     "execution_count": 12,
     "metadata": {},
     "output_type": "execute_result"
    }
   ],
   "source": [
    "s={'name':'Vennela','id':140000,'branch':'cse','age':18}\n",
    "print(s.update({'age':20}))\n",
    "print(s.update({'cell':1234567890}))\n",
    "s"
   ]
  },
  {
   "cell_type": "code",
   "execution_count": 16,
   "metadata": {},
   "outputs": [
    {
     "data": {
      "text/plain": [
       "20"
      ]
     },
     "execution_count": 16,
     "metadata": {},
     "output_type": "execute_result"
    }
   ],
   "source": [
    "s.setdefault('age',29)"
   ]
  },
  {
   "cell_type": "code",
   "execution_count": 17,
   "metadata": {},
   "outputs": [
    {
     "data": {
      "text/plain": [
       "{'name': 'Vennela',\n",
       " 'id': 140000,\n",
       " 'branch': 'cse',\n",
       " 'age': 20,\n",
       " 'cell': 1234567890}"
      ]
     },
     "execution_count": 17,
     "metadata": {},
     "output_type": "execute_result"
    }
   ],
   "source": [
    "s2=s.copy()\n",
    "s2"
   ]
  },
  {
   "cell_type": "markdown",
   "metadata": {},
   "source": [
    "- Popitems()\n",
    "- pop()\n",
    "- clear()"
   ]
  },
  {
   "cell_type": "code",
   "execution_count": 25,
   "metadata": {},
   "outputs": [
    {
     "data": {
      "text/plain": [
       "{1: 'q', 2: 'w', 3: 'e', 4: 'r'}"
      ]
     },
     "execution_count": 25,
     "metadata": {},
     "output_type": "execute_result"
    }
   ],
   "source": [
    "d={1:'q',2:'w',3:'e',4:'r',5:'t'}\n",
    "d.popitem()\n",
    "d"
   ]
  },
  {
   "cell_type": "code",
   "execution_count": 26,
   "metadata": {},
   "outputs": [
    {
     "data": {
      "text/plain": [
       "'q'"
      ]
     },
     "execution_count": 26,
     "metadata": {},
     "output_type": "execute_result"
    }
   ],
   "source": [
    "d.pop(1)"
   ]
  },
  {
   "cell_type": "code",
   "execution_count": 27,
   "metadata": {},
   "outputs": [
    {
     "data": {
      "text/plain": [
       "{2: 'w', 3: 'e', 4: 'r'}"
      ]
     },
     "execution_count": 27,
     "metadata": {},
     "output_type": "execute_result"
    }
   ],
   "source": [
    "d"
   ]
  },
  {
   "cell_type": "code",
   "execution_count": 28,
   "metadata": {},
   "outputs": [
    {
     "data": {
      "text/plain": [
       "{}"
      ]
     },
     "execution_count": 28,
     "metadata": {},
     "output_type": "execute_result"
    }
   ],
   "source": [
    "d.clear()\n",
    "d"
   ]
  },
  {
   "cell_type": "code",
   "execution_count": 31,
   "metadata": {},
   "outputs": [
    {
     "name": "stdout",
     "output_type": "stream",
     "text": [
      "{'n': 'Sita', 'n1': 'Geeta', 'n3': 'Lata', 'pin': 123, 'pin2': 234, 'pin3': 456, 'b': 'CSE', 'b1': 'ECE', 'b2': 'CIV', 'e': 2018, 'e1': 2017, 'e2': 2017}\n"
     ]
    }
   ],
   "source": [
    "d1={'n':'Sita','n1':'Geeta','n3':'Lata'}\n",
    "d2={'pin':123,'pin2':234,'pin3':456}\n",
    "d3={'b':'CSE','b1':'ECE','b2':'CIV'}\n",
    "d4={'e':2018,'e1':2017,'e2':2017}\n",
    "d5={}\n",
    "for key in d1,d2,d3,d4:\n",
    "    d5.update(key)\n",
    "print(d5)"
   ]
  },
  {
   "cell_type": "code",
   "execution_count": null,
   "metadata": {},
   "outputs": [],
   "source": []
  },
  {
   "cell_type": "markdown",
   "metadata": {},
   "source": [
    "## Python program to build a contacts application\n"
   ]
  },
  {
   "cell_type": "code",
   "execution_count": 1,
   "metadata": {},
   "outputs": [
    {
     "name": "stdout",
     "output_type": "stream",
     "text": [
      "contact added\n",
      "contact added\n",
      "{'Vennela': 1234567890, 'Anri': 9987654321}\n"
     ]
    }
   ],
   "source": [
    "contacts={}\n",
    "def adcont(name,phone):\n",
    "    if name not in contacts:\n",
    "        contacts[name]=phone\n",
    "        print('contact added')\n",
    "    else:\n",
    "        print('contact is already existed')\n",
    "    return \n",
    "adcont('Vennela',1234567890)\n",
    "adcont('Anri',9987654321)\n",
    "print(contacts)"
   ]
  },
  {
   "cell_type": "code",
   "execution_count": 63,
   "metadata": {},
   "outputs": [
    {
     "name": "stdout",
     "output_type": "stream",
     "text": [
      "1 : ['A', 'cse']\n",
      "2 : ['M', 'ece']\n",
      "3 : ['Mi', 'civil']\n"
     ]
    }
   ],
   "source": [
    "#Task4\n",
    "s={1:['A','cse'],2:['M','ece'],3:['Mi','civil']}\n",
    "'''\n",
    "for i in range(1,len(s)+1):\n",
    "    print(i,\":\",s[i])\n",
    "    \n",
    "'''\n",
    "for key,value in s.items():\n",
    "    print (key,':',value)\n"
   ]
  },
  {
   "cell_type": "code",
   "execution_count": 46,
   "metadata": {},
   "outputs": [
    {
     "data": {
      "text/plain": [
       "{1: ['A', 'cse'], 2: ['M', 'ece'], 3: ['Mi', 'civil']}"
      ]
     },
     "execution_count": 46,
     "metadata": {},
     "output_type": "execute_result"
    }
   ],
   "source": [
    "s"
   ]
  },
  {
   "cell_type": "code",
   "execution_count": 64,
   "metadata": {},
   "outputs": [
    {
     "name": "stdout",
     "output_type": "stream",
     "text": [
      "{1: 2, 2: 3, 3: 4, 4: 5, 5: 6, 6: 7, 7: 8, 8: 9, 9: 10, 10: 11}\n"
     ]
    }
   ],
   "source": [
    "d={}\n",
    "for i in range(1,11):\n",
    "    d[i]= i+1\n",
    "print(d)"
   ]
  },
  {
   "cell_type": "code",
   "execution_count": 71,
   "metadata": {},
   "outputs": [
    {
     "name": "stdout",
     "output_type": "stream",
     "text": [
      "350 is the sum of values in dict \n",
      " 116 is the avg of sum of values in dict\n"
     ]
    }
   ],
   "source": [
    "d1={'n':100,'m':120,'o':130}\n",
    "result=sum(d1.values())\n",
    "print(result,'is the sum of values in dict','\\n',result//len(d1.keys()),'is the avg of sum of values in dict')  "
   ]
  }
 ],
 "metadata": {
  "kernelspec": {
   "display_name": "Python 3",
   "language": "python",
   "name": "python3"
  },
  "language_info": {
   "codemirror_mode": {
    "name": "ipython",
    "version": 3
   },
   "file_extension": ".py",
   "mimetype": "text/x-python",
   "name": "python",
   "nbconvert_exporter": "python",
   "pygments_lexer": "ipython3",
   "version": "3.7.3"
  }
 },
 "nbformat": 4,
 "nbformat_minor": 2
}

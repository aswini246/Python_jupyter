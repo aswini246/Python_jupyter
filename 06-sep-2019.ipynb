{
 "cells": [
  {
   "cell_type": "markdown",
   "metadata": {},
   "source": [
    "# Functions"
   ]
  },
  {
   "cell_type": "code",
   "execution_count": 8,
   "metadata": {},
   "outputs": [
    {
     "data": {
      "text/plain": [
       "'yadirF eht si yadoT'"
      ]
     },
     "execution_count": 8,
     "metadata": {},
     "output_type": "execute_result"
    }
   ],
   "source": [
    "#Function to reverse a string \n",
    "def r(s):\n",
    "    return s[::-1]\n",
    "s=\"Today is the Friday\"\n",
    "r(s)"
   ]
  },
  {
   "cell_type": "code",
   "execution_count": 3,
   "metadata": {},
   "outputs": [
    {
     "data": {
      "text/plain": [
       "576"
      ]
     },
     "execution_count": 3,
     "metadata": {},
     "output_type": "execute_result"
    }
   ],
   "source": [
    "#Square of number\n",
    "def sq(a):\n",
    "    return(a**2)\n",
    "a=24\n",
    "sq(a)"
   ]
  },
  {
   "cell_type": "code",
   "execution_count": 6,
   "metadata": {},
   "outputs": [
    {
     "data": {
      "text/plain": [
       "357"
      ]
     },
     "execution_count": 6,
     "metadata": {},
     "output_type": "execute_result"
    }
   ],
   "source": [
    "#Function to sum\n",
    "def s(q,w):\n",
    "    return(q+w)\n",
    "q=123\n",
    "w=234\n",
    "s(q,w)"
   ]
  },
  {
   "cell_type": "code",
   "execution_count": 26,
   "metadata": {},
   "outputs": [
    {
     "data": {
      "text/plain": [
       "6"
      ]
     },
     "execution_count": 26,
     "metadata": {},
     "output_type": "execute_result"
    }
   ],
   "source": [
    "#Function to count the digits in num\n",
    "def c(n):\n",
    "    return(len(str(n)))\n",
    "n=123565\n",
    "c(n)"
   ]
  },
  {
   "cell_type": "code",
   "execution_count": 23,
   "metadata": {},
   "outputs": [
    {
     "name": "stdout",
     "output_type": "stream",
     "text": [
      "None\n"
     ]
    }
   ],
   "source": [
    "#polindrome\n",
    "def p(q,t):\n",
    "    if(q==t):\n",
    "        return(\"polindrome\")    \n",
    "q=\"Today is the 6th sep 2019\"\n",
    "s=\"Today is the friday\"\n",
    "t=s[::-1]\n",
    "print(p(q,t))\n"
   ]
  },
  {
   "cell_type": "code",
   "execution_count": 19,
   "metadata": {},
   "outputs": [
    {
     "name": "stdout",
     "output_type": "stream",
     "text": [
      "4\n"
     ]
    },
    {
     "data": {
      "text/plain": [
       "0"
      ]
     },
     "execution_count": 19,
     "metadata": {},
     "output_type": "execute_result"
    }
   ],
   "source": [
    "#factorial\n",
    "def f(n):\n",
    "    for i in range(n):\n",
    "        return (i*(i-1))\n",
    "n=int(input())\n",
    "f(n)"
   ]
  },
  {
   "cell_type": "markdown",
   "metadata": {},
   "source": [
    "## Types of Functions\n",
    "### without argument s & without return values"
   ]
  },
  {
   "cell_type": "code",
   "execution_count": 28,
   "metadata": {},
   "outputs": [
    {
     "name": "stdout",
     "output_type": "stream",
     "text": [
      "without argument s & without return values 46\n"
     ]
    }
   ],
   "source": [
    "#adding values\n",
    "def adding():\n",
    "    q=12\n",
    "    w=34\n",
    "    add=q+w\n",
    "    print(\"without argument s & without return values\",add)\n",
    "adding()    "
   ]
  },
  {
   "cell_type": "code",
   "execution_count": 34,
   "metadata": {},
   "outputs": [
    {
     "name": "stdout",
     "output_type": "stream",
     "text": [
      "without argument s & with return values\n"
     ]
    },
    {
     "data": {
      "text/plain": [
       "276"
      ]
     },
     "execution_count": 34,
     "metadata": {},
     "output_type": "execute_result"
    }
   ],
   "source": [
    "#without argument s & with return values\n",
    "\n",
    "def mul():\n",
    "    q=12\n",
    "    w=23\n",
    "    multi=q*w\n",
    "    return multi\n",
    "print(\"without argument s & with return values\")\n",
    "mul()"
   ]
  },
  {
   "cell_type": "code",
   "execution_count": 37,
   "metadata": {},
   "outputs": [
    {
     "name": "stdout",
     "output_type": "stream",
     "text": [
      "10.0\n"
     ]
    }
   ],
   "source": [
    "#With arguments without return values\n",
    "def div(q):\n",
    "    print(q/5)\n",
    "div(50)\n"
   ]
  },
  {
   "cell_type": "code",
   "execution_count": 38,
   "metadata": {},
   "outputs": [
    {
     "data": {
      "text/plain": [
       "157"
      ]
     },
     "execution_count": 38,
     "metadata": {},
     "output_type": "execute_result"
    }
   ],
   "source": [
    "#With arguments with return values\n",
    "def add(w,x):\n",
    "    return (w+x)\n",
    "add(123,34)\n"
   ]
  },
  {
   "cell_type": "markdown",
   "metadata": {},
   "source": [
    "### Tasks"
   ]
  },
  {
   "cell_type": "code",
   "execution_count": 9,
   "metadata": {},
   "outputs": [
    {
     "name": "stdout",
     "output_type": "stream",
     "text": [
      "6\n",
      "100\n"
     ]
    },
    {
     "data": {
      "text/plain": [
       "6"
      ]
     },
     "execution_count": 9,
     "metadata": {},
     "output_type": "execute_result"
    }
   ],
   "source": [
    "#print all numbers divisible by 6 and not a factor of 100 in a given range(lb, ub) inclusive\n",
    "def div(lb,ub):\n",
    "    for i in range(lb,ub+1):\n",
    "        if(i%6==0) and (100%i!=0):\n",
    "            temp=i\n",
    "            i +=1\n",
    "            return (temp)\n",
    "lb,hb = int(input()),int(input())\n",
    "div(lb,ub)"
   ]
  },
  {
   "cell_type": "code",
   "execution_count": 7,
   "metadata": {},
   "outputs": [
    {
     "data": {
      "text/plain": [
       "5"
      ]
     },
     "execution_count": 7,
     "metadata": {},
     "output_type": "execute_result"
    }
   ],
   "source": [
    "#count digits\n",
    "def d(n):\n",
    "    return len(str(n))          \n",
    "d(34567)           "
   ]
  },
  {
   "cell_type": "code",
   "execution_count": 13,
   "metadata": {},
   "outputs": [
    {
     "name": "stdout",
     "output_type": "stream",
     "text": [
      "10\n",
      "20\n"
     ]
    }
   ],
   "source": [
    "#the average of cubes of all the even numbers in a given range(lb, ub) inclusive\n",
    "def div(lb,ub):\n",
    "    c=0\n",
    "    for i in range(lb,ub+1):\n",
    "        if(i%2==0):\n",
    "            temp=i**3\n",
    "            c +=1\n",
    "            avg=temp//c\n",
    "            return (avg)\n",
    "lb,hb = int(input()),int(input())\n",
    "div(lb,ub)"
   ]
  },
  {
   "cell_type": "code",
   "execution_count": 20,
   "metadata": {},
   "outputs": [
    {
     "name": "stdout",
     "output_type": "stream",
     "text": [
      "enter number4\n",
      "1 is the factor for 4\n",
      "2 is the factor for 4\n",
      "4 is the factor for 4\n"
     ]
    }
   ],
   "source": [
    " #list of factors for a given number\n",
    "def ft(n):\n",
    "    for i in range(1,n+1):\n",
    "        if (n%i==0):\n",
    "            print(i,'is the factor for',n)\n",
    "            i +=1\n",
    "n=int(input('enter number'))\n",
    "ft(n)    "
   ]
  },
  {
   "cell_type": "code",
   "execution_count": 24,
   "metadata": {},
   "outputs": [
    {
     "name": "stdout",
     "output_type": "stream",
     "text": [
      "enter number3\n",
      "6\n"
     ]
    }
   ],
   "source": [
    "#calculate the factorial of a given number\n",
    "def ft(n):\n",
    "    fact=1\n",
    "    for i in range(1,n+1):\n",
    "        if(n==0):\n",
    "            print(1,'is the factorial for',n)\n",
    "        else:\n",
    "            fact=fact*i\n",
    "    print(fact)\n",
    "n=int(input('enter number'))\n",
    "ft(n)    "
   ]
  },
  {
   "cell_type": "code",
   "execution_count": null,
   "metadata": {},
   "outputs": [],
   "source": []
  },
  {
   "cell_type": "markdown",
   "metadata": {},
   "source": [
    "#### Recursion"
   ]
  },
  {
   "cell_type": "code",
   "execution_count": 1,
   "metadata": {},
   "outputs": [
    {
     "name": "stdout",
     "output_type": "stream",
     "text": [
      "Enter any number:6\n",
      "NOt prime\n"
     ]
    }
   ],
   "source": [
    "#check if a given number is Prime by using recursive function\n",
    "def prime(num,i):\n",
    "    if(i==num):\n",
    "        return 1\n",
    "    else:\n",
    "        if num%i==0:\n",
    "            return False\n",
    "        else:\n",
    "            return 0+prime(num,i+1)\n",
    "        \n",
    "        \n",
    "number=int(input(\"Enter any number:\"))\n",
    "res=prime(number,2)\n",
    "if res==1:\n",
    "    print(\"Prime\")\n",
    "else:\n",
    "    print(\"NOt prime\")"
   ]
  },
  {
   "cell_type": "code",
   "execution_count": null,
   "metadata": {},
   "outputs": [],
   "source": [
    "#Function to calculate the average first N Prime numbers  by using recursive function\n",
    "def prime(num,i):\n",
    "    if(i==num):\n",
    "        return 1\n",
    "    else:\n",
    "        if num%i==0:\n",
    "            return False\n",
    "        else:\n",
    "            return 0+ prime(num,i+1)\n",
    "        \n",
    "        \n",
    "number=int(input(\"Enter any number:\"))\n",
    "for i in range(2,number):\n",
    "    res=prime(i,2)\n",
    "    if res==1:\n",
    "        print(i,\"Prime\")"
   ]
  },
  {
   "cell_type": "code",
   "execution_count": 2,
   "metadata": {},
   "outputs": [
    {
     "name": "stdout",
     "output_type": "stream",
     "text": [
      "Enter any number:30\n",
      "6\n",
      "28\n"
     ]
    }
   ],
   "source": [
    "#Function to generate all Perfect numbers in a given range  by using recursive function\n",
    "def isperfect(num,i):\n",
    "    if i==1 :\n",
    "        return 1\n",
    "    else:\n",
    "        if num%i==0:\n",
    "            return i+ isperfect(num,i-1)\n",
    "        else:\n",
    "            return 0+isperfect(num,i-1)\n",
    "number=int(input(\"Enter any number:\"))\n",
    "for i in range(2,number):\n",
    "    res=isperfect(i,i-1)\n",
    "    if res==i:\n",
    "        print(i)"
   ]
  },
  {
   "cell_type": "markdown",
   "metadata": {},
   "source": [
    "### Advanced Problem Set( Optional )"
   ]
  },
  {
   "cell_type": "code",
   "execution_count": null,
   "metadata": {},
   "outputs": [],
   "source": [
    "#calculate the average of all factorials in a given range\n",
    "def ft(n):\n",
    "    fact=1\n",
    "    for i in range()"
   ]
  },
  {
   "cell_type": "code",
   "execution_count": 5,
   "metadata": {},
   "outputs": [
    {
     "name": "stdout",
     "output_type": "stream",
     "text": [
      "Enter any number: 4\n",
      "1\n",
      "3\n"
     ]
    }
   ],
   "source": [
    "#Function to generate N odd armstrong numbers\n",
    "def digits(num):\n",
    "    count=0\n",
    "    while(num>0):\n",
    "        num=num//10\n",
    "        count+=1\n",
    "    return count\n",
    "def amstr(num,dgt_cnt):\n",
    "    s=0\n",
    "    while(num>0):\n",
    "        r=num%10\n",
    "        s+=r**dgt_cnt\n",
    "        num=num//10\n",
    "    return s\n",
    "number=int(input(\"Enter any number: \"))\n",
    "for i in range(1,number):\n",
    "    count=digits(i)\n",
    "    res=amstr(i,count)\n",
    "    if res==i and i%2!=0:\n",
    "        print(i)"
   ]
  },
  {
   "cell_type": "code",
   "execution_count": 4,
   "metadata": {},
   "outputs": [
    {
     "name": "stdout",
     "output_type": "stream",
     "text": [
      "Enter any number:10\n",
      "Enter lower bound:5\n",
      "Enter upper bound:10\n",
      "10 X 5 = 50\n",
      "10 X 6 = 60\n",
      "10 X 7 = 70\n",
      "10 X 8 = 80\n",
      "10 X 9 = 90\n",
      "10 X 10 = 100\n"
     ]
    }
   ],
   "source": [
    "#generate Multiplication table for a number in a given range\n",
    "#10 in the range(100, 102) inclusive\n",
    "#10 x 100 = 1000\n",
    "#10 x 101 = 1010\n",
    "#10 x 102 = 1020\n",
    "def table(num,lb,ub):\n",
    "    while(lb<=ub):\n",
    "        print(num,\"X\",lb,\"=\",num*lb)\n",
    "        lb+=1\n",
    "num=int(input(\"Enter any number:\"))\n",
    "lb=int(input(\"Enter lower bound:\"))\n",
    "ub=int(input(\"Enter upper bound:\"))\n",
    "table(num,lb,ub)"
   ]
  },
  {
   "cell_type": "code",
   "execution_count": null,
   "metadata": {},
   "outputs": [],
   "source": []
  }
 ],
 "metadata": {
  "kernelspec": {
   "display_name": "Python 3",
   "language": "python",
   "name": "python3"
  },
  "language_info": {
   "codemirror_mode": {
    "name": "ipython",
    "version": 3
   },
   "file_extension": ".py",
   "mimetype": "text/x-python",
   "name": "python",
   "nbconvert_exporter": "python",
   "pygments_lexer": "ipython3",
   "version": "3.7.3"
  }
 },
 "nbformat": 4,
 "nbformat_minor": 2
}
